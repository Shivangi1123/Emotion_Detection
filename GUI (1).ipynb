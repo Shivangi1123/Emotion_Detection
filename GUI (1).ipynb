{
 "cells": [
  {
   "cell_type": "code",
   "execution_count": 12,
   "id": "5c8fc1fd",
   "metadata": {},
   "outputs": [],
   "source": [
    "import tkinter as tk\n",
    "from tkinter import filedialog\n",
    "from tkinter import *\n",
    "\n",
    "from sklearn import metrics\n",
    "\n",
    "from tensorflow.keras.models import model_from_json\n",
    "from PIL import Image, ImageTk\n",
    "import numpy as np\n",
    "import cv2"
   ]
  },
  {
   "cell_type": "code",
   "execution_count": 13,
   "id": "3b1fcb7b",
   "metadata": {},
   "outputs": [],
   "source": [
    "def FacialExpressionModel(json_file, weights_file):\n",
    "    with open (json_file,\"r\") as file:\n",
    "        loaded_model_json = file.read()\n",
    "        model = model_from_json(loaded_model_json)\n",
    "        \n",
    "    model.load_weights(weights_file)\n",
    "    model.compile(optimizer ='adam',loss='categorical_crossentropy',metrics = ['accuracy'])\n",
    "    \n",
    "    return model"
   ]
  },
  {
   "cell_type": "code",
   "execution_count": 14,
   "id": "f54f4a38",
   "metadata": {},
   "outputs": [],
   "source": [
    "import tkinter as tk\n",
    "\n",
    "top=tk.Tk()\n",
    "top.geometry('800x600')\n",
    "top.title('Emotion Detector')\n",
    "top.configure(background='#CDCDCD')\n",
    "label1 = Label(top, background='#CDCDCD', font=('arial',15,'bold'))\n",
    "sign_image = Label(top)\n",
    "\n"
   ]
  },
  {
   "cell_type": "code",
   "execution_count": 15,
   "id": "05122ce9",
   "metadata": {},
   "outputs": [],
   "source": [
    "facec = cv2.CascadeClassifier('haarcascade_frontalface_default.xml')\n",
    "\n",
    "model=FacialExpressionModel('model_a2.json','model_weights1.weights.h5')\n",
    "\n",
    "EMOTIONS_LIST = [\"Angry\",\"Disgust\",\"Fear\",\"Happy\",\"Neutral\",\"Sad\",\"Surprise\"]\n"
   ]
  },
  {
   "cell_type": "code",
   "execution_count": 16,
   "id": "e6c2f8de",
   "metadata": {},
   "outputs": [],
   "source": [
    "def Detect(file_path):\n",
    "    global Label_packed\n",
    "    \n",
    "    image=cv2.imread(file_path)\n",
    "    gray_image = cv2.cvtColor(image,cv2.COLOR_BGR2GRAY)\n",
    "    faces=facec.detectMultiScale(gray_image,1.3,5)\n",
    "    try:\n",
    "        for (x,y,w,h) in faces:\n",
    "            fc = gray_image[y:y+h,x:x+w]\n",
    "            roi = cv2.resize(fc,(48,48))\n",
    "            pred = EMOTIONS_LIST[np.argmax(model.predict(roi[np.newaxis,:,:,np.newaxis]))]\n",
    "        print(\"Predicted Emotion is \" + pred)\n",
    "        label1.configure(foreground=\"#011638\",text = pred)\n",
    "    except:\n",
    "        label1.configure(foreground=\"#011638\",text = \"Unable to detect\")\n",
    "         \n"
   ]
  },
  {
   "cell_type": "code",
   "execution_count": 17,
   "id": "155370be",
   "metadata": {},
   "outputs": [],
   "source": [
    "def show_Detect_button(file_path):\n",
    "    detect_b = Button(top,text=\"Detect Emotion\", command= lambda: Detect(file_path),padx=10,pady=5)\n",
    "    detect_b.configure(background=\"#364156\",foreground='white',font=('arial',10,'bold'))\n",
    "    detect_b.place(relx =0.79,rely=0.46)\n"
   ]
  },
  {
   "cell_type": "code",
   "execution_count": 18,
   "id": "1d7e045e",
   "metadata": {},
   "outputs": [
    {
     "name": "stdout",
     "output_type": "stream",
     "text": [
      "Cascade classifier loaded successfully\n"
     ]
    }
   ],
   "source": [
    "import cv2\n",
    "\n",
    "cascade_path = 'haarcascade_frontalface_default.xml'\n",
    "\n",
    "# Load cascade classifier\n",
    "face_cascade = cv2.CascadeClassifier(cascade_path)\n",
    "\n",
    "# Check if the cascade classifier is loaded successfully\n",
    "if face_cascade.empty():\n",
    "    print(\"Error: Cascade classifier not loaded successfully\")\n",
    "else:\n",
    "    print(\"Cascade classifier loaded successfully\")\n"
   ]
  },
  {
   "cell_type": "code",
   "execution_count": 19,
   "id": "0128a123",
   "metadata": {},
   "outputs": [],
   "source": [
    "def upload_image():\n",
    "    try:\n",
    "        file_path = filedialog.askopenfilename()\n",
    "        uploaded = Image.open(file_path)\n",
    "        uploaded.thumbnail(((top.winfo_width()/2.25), (top.winfo_height()/2.25)))\n",
    "        im = ImageTk.PhotoImage(uploaded)\n",
    "\n",
    "        sign_image.configure(image=im)\n",
    "        sign_image.image = im\n",
    "        label1.configure(text='')\n",
    "        show_Detect_button(file_path)\n",
    "    except:\n",
    "        pass\n",
    "\n",
    "    \n"
   ]
  },
  {
   "cell_type": "code",
   "execution_count": null,
   "id": "51937664",
   "metadata": {},
   "outputs": [
    {
     "name": "stdout",
     "output_type": "stream",
     "text": [
      "\u001b[1m1/1\u001b[0m \u001b[32m━━━━━━━━━━━━━━━━━━━━\u001b[0m\u001b[37m\u001b[0m \u001b[1m0s\u001b[0m 220ms/step\n",
      "Predicted Emotion is Sad\n",
      "\u001b[1m1/1\u001b[0m \u001b[32m━━━━━━━━━━━━━━━━━━━━\u001b[0m\u001b[37m\u001b[0m \u001b[1m0s\u001b[0m 32ms/step\n",
      "Predicted Emotion is Surprise\n"
     ]
    }
   ],
   "source": [
    "upload = Button(top, text=\"Upload Image\", command=upload_image, padx=10, pady=5)\n",
    "upload.configure(background=\"#364156\",foreground='white',font=('arial',20,'bold'))\n",
    "upload.pack(side='bottom',pady=50)\n",
    "sign_image.pack(side='bottom', expand='True')\n",
    "label1.pack(side='bottom', expand='True')\n",
    "heading = Label(top,text='Emotion Detector',pady=20,font=('arial',25,'bold'))\n",
    "heading.configure(background='#CDCDCD',foreground=\"#364156\")\n",
    "heading.pack()\n",
    "top.mainloop()"
   ]
  },
  {
   "cell_type": "code",
   "execution_count": null,
   "id": "01e091e5",
   "metadata": {},
   "outputs": [],
   "source": []
  }
 ],
 "metadata": {
  "kernelspec": {
   "display_name": "Python 3 (ipykernel)",
   "language": "python",
   "name": "python3"
  },
  "language_info": {
   "codemirror_mode": {
    "name": "ipython",
    "version": 3
   },
   "file_extension": ".py",
   "mimetype": "text/x-python",
   "name": "python",
   "nbconvert_exporter": "python",
   "pygments_lexer": "ipython3",
   "version": "3.10.9"
  }
 },
 "nbformat": 4,
 "nbformat_minor": 5
}
